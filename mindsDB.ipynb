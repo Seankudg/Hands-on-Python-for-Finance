{
  "nbformat": 4,
  "nbformat_minor": 0,
  "metadata": {
    "colab": {
      "name": "mindsDB.ipynb",
      "provenance": [],
      "collapsed_sections": [],
      "include_colab_link": true
    },
    "kernelspec": {
      "name": "python3",
      "display_name": "Python 3"
    },
    "accelerator": "TPU"
  },
  "cells": [
    {
      "cell_type": "markdown",
      "metadata": {
        "id": "view-in-github",
        "colab_type": "text"
      },
      "source": [
        "<a href=\"https://colab.research.google.com/github/Seankudg/Hands-on-Python-for-Finance/blob/master/mindsDB.ipynb\" target=\"_parent\"><img src=\"https://colab.research.google.com/assets/colab-badge.svg\" alt=\"Open In Colab\"/></a>"
      ]
    },
    {
      "cell_type": "code",
      "metadata": {
        "id": "Amp-VoGkPA7w",
        "colab_type": "code",
        "outputId": "d53ac2b3-a77b-48f3-a519-8d9bfa856df8",
        "colab": {
          "base_uri": "https://localhost:8080/",
          "height": 2157
        }
      },
      "source": [
        "!pip install mindsdb\n",
        "import mindsdb"
      ],
      "execution_count": 0,
      "outputs": [
        {
          "output_type": "stream",
          "text": [
            "Collecting mindsdb\n",
            "\u001b[?25l  Downloading https://files.pythonhosted.org/packages/96/e2/d25a507854d7b8defed9e10a6393ae972683922da4ad48c11ca7da533eab/MindsDB-1.0.9-py3-none-any.whl (65kB)\n",
            "\u001b[K     |████████████████████████████████| 71kB 3.1MB/s \n",
            "\u001b[?25hCollecting ludwig==0.1.1 (from mindsdb)\n",
            "\u001b[?25l  Downloading https://files.pythonhosted.org/packages/cd/a2/9f7f1952398e5aeb2f39579616fab8c3fada84a956ba6c855e6bc30a99f1/ludwig-0.1.1.tar.gz (129kB)\n",
            "\u001b[K     |████████████████████████████████| 133kB 10.2MB/s \n",
            "\u001b[?25hRequirement already satisfied: pandas>=0.23.4 in /usr/local/lib/python3.6/dist-packages (from mindsdb) (0.24.2)\n",
            "Collecting zope.interface>=4.5.0 (from mindsdb)\n",
            "\u001b[?25l  Downloading https://files.pythonhosted.org/packages/19/17/1d198a6aaa9aa4590862fe3d3a2ed7dd808050cab4eebe8a2f2f813c1376/zope.interface-4.6.0-cp36-cp36m-manylinux1_x86_64.whl (167kB)\n",
            "\u001b[K     |████████████████████████████████| 174kB 40.1MB/s \n",
            "\u001b[?25hCollecting Pillow==6.0 (from mindsdb)\n",
            "\u001b[?25l  Downloading https://files.pythonhosted.org/packages/d2/c2/f84b1e57416755e967236468dcfb0fad7fd911f707185efc4ba8834a1a94/Pillow-6.0.0-cp36-cp36m-manylinux1_x86_64.whl (2.0MB)\n",
            "\u001b[K     |████████████████████████████████| 2.0MB 43.5MB/s \n",
            "\u001b[?25hRequirement already satisfied: pytz>=2018.5 in /usr/local/lib/python3.6/dist-packages (from mindsdb) (2018.9)\n",
            "Collecting ImageHash==4.0 (from mindsdb)\n",
            "\u001b[?25l  Downloading https://files.pythonhosted.org/packages/58/47/e639093d67f54e59163f9d259575a10bd16e4d0ff3bb1259ba64b9c77a42/ImageHash-4.0-py2.py3-none-any.whl (295kB)\n",
            "\u001b[K     |████████████████████████████████| 296kB 43.3MB/s \n",
            "\u001b[?25hRequirement already satisfied: setuptools>=21.2.1 in /usr/local/lib/python3.6/dist-packages (from mindsdb) (41.0.1)\n",
            "Requirement already satisfied: cython>=0.29.2 in /usr/local/lib/python3.6/dist-packages (from mindsdb) (0.29.7)\n",
            "Collecting python-engineio>=2.3.1 (from mindsdb)\n",
            "\u001b[?25l  Downloading https://files.pythonhosted.org/packages/66/54/fa0399f7870b7c5ebedbf4e36197dd006551945d305538a83f724c639c51/python_engineio-3.5.1-py2.py3-none-any.whl (116kB)\n",
            "\u001b[K     |████████████████████████████████| 122kB 46.8MB/s \n",
            "\u001b[?25hCollecting python-dateutil>=2.7.3 (from mindsdb)\n",
            "\u001b[?25l  Downloading https://files.pythonhosted.org/packages/41/17/c62faccbfbd163c7f57f3844689e3a78bae1f403648a6afb1d0866d87fbb/python_dateutil-2.8.0-py2.py3-none-any.whl (226kB)\n",
            "\u001b[K     |████████████████████████████████| 235kB 44.7MB/s \n",
            "\u001b[?25hRequirement already satisfied: scikit-image==0.14.2 in /usr/local/lib/python3.6/dist-packages (from mindsdb) (0.14.2)\n",
            "Requirement already satisfied: xlrd>=1.0.0 in /usr/local/lib/python3.6/dist-packages (from mindsdb) (1.1.0)\n",
            "Requirement already satisfied: scipy>=1.1.0 in /usr/local/lib/python3.6/dist-packages (from mindsdb) (1.2.1)\n",
            "Collecting colorlog>=4.0.2 (from mindsdb)\n",
            "  Downloading https://files.pythonhosted.org/packages/68/4d/892728b0c14547224f0ac40884e722a3d00cb54e7a146aea0b3186806c9e/colorlog-4.0.2-py2.py3-none-any.whl\n",
            "Requirement already satisfied: chardet>=3.0.4 in /usr/local/lib/python3.6/dist-packages (from mindsdb) (3.0.4)\n",
            "Collecting python-socketio>=2.0.0 (from mindsdb)\n",
            "\u001b[?25l  Downloading https://files.pythonhosted.org/packages/cf/c5/829302dbbd1c73ba3599d71726e74b73d01898addaa1834110cd697b94b3/python_socketio-4.0.1-py2.py3-none-any.whl (45kB)\n",
            "\u001b[K     |████████████████████████████████| 51kB 20.4MB/s \n",
            "\u001b[?25hRequirement already satisfied: requests>=2.20.0 in /usr/local/lib/python3.6/dist-packages (from mindsdb) (2.21.0)\n",
            "Requirement already satisfied: attrs>=18.2.0 in /usr/local/lib/python3.6/dist-packages (from mindsdb) (19.1.0)\n",
            "Requirement already satisfied: scikit-learn>=0.20.3 in /usr/local/lib/python3.6/dist-packages (from mindsdb) (0.20.3)\n",
            "Requirement already satisfied: tensorflow-estimator>=1.13.0 in /usr/local/lib/python3.6/dist-packages (from mindsdb) (1.13.0)\n",
            "Requirement already satisfied: wheel>=0.32.2 in /usr/local/lib/python3.6/dist-packages (from mindsdb) (0.33.1)\n",
            "Requirement already satisfied: tensorflow==1.13.1 in /usr/local/lib/python3.6/dist-packages (from mindsdb) (1.13.1)\n",
            "Requirement already satisfied: numpy>=1.15.2 in /usr/local/lib/python3.6/dist-packages (from mindsdb) (1.16.3)\n",
            "Requirement already satisfied: h5py>=2.6 in /usr/local/lib/python3.6/dist-packages (from ludwig==0.1.1->mindsdb) (2.8.0)\n",
            "Requirement already satisfied: matplotlib>=3.0 in /usr/local/lib/python3.6/dist-packages (from ludwig==0.1.1->mindsdb) (3.0.3)\n",
            "Requirement already satisfied: seaborn>=0.7 in /usr/local/lib/python3.6/dist-packages (from ludwig==0.1.1->mindsdb) (0.9.0)\n",
            "Collecting spacy>=2.1 (from ludwig==0.1.1->mindsdb)\n",
            "\u001b[?25l  Downloading https://files.pythonhosted.org/packages/a1/5b/0fab3fa533229436533fb504bb62f4cf7ea29541a487a9d1a0749876fc23/spacy-2.1.4-cp36-cp36m-manylinux1_x86_64.whl (29.8MB)\n",
            "\u001b[K     |████████████████████████████████| 29.8MB 9.0MB/s \n",
            "\u001b[?25hRequirement already satisfied: tqdm in /usr/local/lib/python3.6/dist-packages (from ludwig==0.1.1->mindsdb) (4.28.1)\n",
            "Requirement already satisfied: tabulate>=0.7 in /usr/local/lib/python3.6/dist-packages (from ludwig==0.1.1->mindsdb) (0.8.3)\n",
            "Requirement already satisfied: PyYAML>=3.12 in /usr/local/lib/python3.6/dist-packages (from ludwig==0.1.1->mindsdb) (3.13)\n",
            "Requirement already satisfied: pywavelets in /usr/local/lib/python3.6/dist-packages (from ImageHash==4.0->mindsdb) (1.0.3)\n",
            "Requirement already satisfied: six in /usr/local/lib/python3.6/dist-packages (from ImageHash==4.0->mindsdb) (1.12.0)\n",
            "Requirement already satisfied: networkx>=1.8 in /usr/local/lib/python3.6/dist-packages (from scikit-image==0.14.2->mindsdb) (2.3)\n",
            "Requirement already satisfied: cloudpickle>=0.2.1 in /usr/local/lib/python3.6/dist-packages (from scikit-image==0.14.2->mindsdb) (0.6.1)\n",
            "Requirement already satisfied: dask[array]>=1.0.0 in /usr/local/lib/python3.6/dist-packages (from scikit-image==0.14.2->mindsdb) (1.1.5)\n",
            "Requirement already satisfied: urllib3<1.25,>=1.21.1 in /usr/local/lib/python3.6/dist-packages (from requests>=2.20.0->mindsdb) (1.24.3)\n",
            "Requirement already satisfied: certifi>=2017.4.17 in /usr/local/lib/python3.6/dist-packages (from requests>=2.20.0->mindsdb) (2019.3.9)\n",
            "Requirement already satisfied: idna<2.9,>=2.5 in /usr/local/lib/python3.6/dist-packages (from requests>=2.20.0->mindsdb) (2.8)\n",
            "Requirement already satisfied: absl-py>=0.1.6 in /usr/local/lib/python3.6/dist-packages (from tensorflow-estimator>=1.13.0->mindsdb) (0.7.1)\n",
            "Requirement already satisfied: mock>=2.0.0 in /usr/local/lib/python3.6/dist-packages (from tensorflow-estimator>=1.13.0->mindsdb) (3.0.5)\n",
            "Requirement already satisfied: tensorboard<1.14.0,>=1.13.0 in /usr/local/lib/python3.6/dist-packages (from tensorflow==1.13.1->mindsdb) (1.13.1)\n",
            "Requirement already satisfied: protobuf>=3.6.1 in /usr/local/lib/python3.6/dist-packages (from tensorflow==1.13.1->mindsdb) (3.7.1)\n",
            "Requirement already satisfied: termcolor>=1.1.0 in /usr/local/lib/python3.6/dist-packages (from tensorflow==1.13.1->mindsdb) (1.1.0)\n",
            "Requirement already satisfied: astor>=0.6.0 in /usr/local/lib/python3.6/dist-packages (from tensorflow==1.13.1->mindsdb) (0.7.1)\n",
            "Requirement already satisfied: gast>=0.2.0 in /usr/local/lib/python3.6/dist-packages (from tensorflow==1.13.1->mindsdb) (0.2.2)\n",
            "Requirement already satisfied: keras-preprocessing>=1.0.5 in /usr/local/lib/python3.6/dist-packages (from tensorflow==1.13.1->mindsdb) (1.0.9)\n",
            "Requirement already satisfied: grpcio>=1.8.6 in /usr/local/lib/python3.6/dist-packages (from tensorflow==1.13.1->mindsdb) (1.15.0)\n",
            "Requirement already satisfied: keras-applications>=1.0.6 in /usr/local/lib/python3.6/dist-packages (from tensorflow==1.13.1->mindsdb) (1.0.7)\n",
            "Requirement already satisfied: pyparsing!=2.0.4,!=2.1.2,!=2.1.6,>=2.0.1 in /usr/local/lib/python3.6/dist-packages (from matplotlib>=3.0->ludwig==0.1.1->mindsdb) (2.4.0)\n",
            "Requirement already satisfied: kiwisolver>=1.0.1 in /usr/local/lib/python3.6/dist-packages (from matplotlib>=3.0->ludwig==0.1.1->mindsdb) (1.1.0)\n",
            "Requirement already satisfied: cycler>=0.10 in /usr/local/lib/python3.6/dist-packages (from matplotlib>=3.0->ludwig==0.1.1->mindsdb) (0.10.0)\n",
            "Collecting srsly<1.1.0,>=0.0.5 (from spacy>=2.1->ludwig==0.1.1->mindsdb)\n",
            "\u001b[?25l  Downloading https://files.pythonhosted.org/packages/6b/97/47753e3393aa4b18de9f942fac26f18879d1ae950243a556888f389d1398/srsly-0.0.5-cp36-cp36m-manylinux1_x86_64.whl (180kB)\n",
            "\u001b[K     |████████████████████████████████| 184kB 41.3MB/s \n",
            "\u001b[?25hRequirement already satisfied: plac<1.0.0,>=0.9.6 in /usr/local/lib/python3.6/dist-packages (from spacy>=2.1->ludwig==0.1.1->mindsdb) (0.9.6)\n",
            "Collecting blis<0.3.0,>=0.2.2 (from spacy>=2.1->ludwig==0.1.1->mindsdb)\n",
            "\u001b[?25l  Downloading https://files.pythonhosted.org/packages/34/46/b1d0bb71d308e820ed30316c5f0a017cb5ef5f4324bcbc7da3cf9d3b075c/blis-0.2.4-cp36-cp36m-manylinux1_x86_64.whl (3.2MB)\n",
            "\u001b[K     |████████████████████████████████| 3.2MB 33.8MB/s \n",
            "\u001b[?25hRequirement already satisfied: preshed<2.1.0,>=2.0.1 in /usr/local/lib/python3.6/dist-packages (from spacy>=2.1->ludwig==0.1.1->mindsdb) (2.0.1)\n",
            "Requirement already satisfied: jsonschema<3.1.0,>=2.6.0 in /usr/local/lib/python3.6/dist-packages (from spacy>=2.1->ludwig==0.1.1->mindsdb) (2.6.0)\n",
            "Collecting wasabi<1.1.0,>=0.2.0 (from spacy>=2.1->ludwig==0.1.1->mindsdb)\n",
            "  Downloading https://files.pythonhosted.org/packages/f4/c1/d76ccdd12c716be79162d934fe7de4ac8a318b9302864716dde940641a79/wasabi-0.2.2-py3-none-any.whl\n",
            "Requirement already satisfied: murmurhash<1.1.0,>=0.28.0 in /usr/local/lib/python3.6/dist-packages (from spacy>=2.1->ludwig==0.1.1->mindsdb) (1.0.2)\n",
            "Requirement already satisfied: cymem<2.1.0,>=2.0.2 in /usr/local/lib/python3.6/dist-packages (from spacy>=2.1->ludwig==0.1.1->mindsdb) (2.0.2)\n",
            "Collecting thinc<7.1.0,>=7.0.2 (from spacy>=2.1->ludwig==0.1.1->mindsdb)\n",
            "\u001b[?25l  Downloading https://files.pythonhosted.org/packages/a9/f1/3df317939a07b2fc81be1a92ac10bf836a1d87b4016346b25f8b63dee321/thinc-7.0.4-cp36-cp36m-manylinux1_x86_64.whl (2.1MB)\n",
            "\u001b[K     |████████████████████████████████| 2.1MB 37.8MB/s \n",
            "\u001b[?25hRequirement already satisfied: decorator>=4.3.0 in /usr/local/lib/python3.6/dist-packages (from networkx>=1.8->scikit-image==0.14.2->mindsdb) (4.4.0)\n",
            "Requirement already satisfied: toolz>=0.7.3; extra == \"array\" in /usr/local/lib/python3.6/dist-packages (from dask[array]>=1.0.0->scikit-image==0.14.2->mindsdb) (0.9.0)\n",
            "Requirement already satisfied: werkzeug>=0.11.15 in /usr/local/lib/python3.6/dist-packages (from tensorboard<1.14.0,>=1.13.0->tensorflow==1.13.1->mindsdb) (0.15.2)\n",
            "Requirement already satisfied: markdown>=2.6.8 in /usr/local/lib/python3.6/dist-packages (from tensorboard<1.14.0,>=1.13.0->tensorflow==1.13.1->mindsdb) (3.1)\n",
            "Building wheels for collected packages: ludwig\n",
            "  Building wheel for ludwig (setup.py) ... \u001b[?25l\u001b[?25hdone\n",
            "  Stored in directory: /root/.cache/pip/wheels/95/e6/05/fa2b84191f6635508ed189ff80d40a641b4c42bc9709194c4d\n",
            "Successfully built ludwig\n",
            "\u001b[31mERROR: albumentations 0.1.12 has requirement imgaug<0.2.7,>=0.2.5, but you'll have imgaug 0.2.9 which is incompatible.\u001b[0m\n",
            "Installing collected packages: srsly, blis, wasabi, thinc, spacy, ludwig, zope.interface, Pillow, ImageHash, python-engineio, python-dateutil, colorlog, python-socketio, mindsdb\n",
            "  Found existing installation: thinc 6.12.1\n",
            "    Uninstalling thinc-6.12.1:\n",
            "      Successfully uninstalled thinc-6.12.1\n",
            "  Found existing installation: spacy 2.0.18\n",
            "    Uninstalling spacy-2.0.18:\n",
            "      Successfully uninstalled spacy-2.0.18\n",
            "  Found existing installation: Pillow 4.3.0\n",
            "    Uninstalling Pillow-4.3.0:\n",
            "      Successfully uninstalled Pillow-4.3.0\n",
            "  Found existing installation: python-dateutil 2.5.3\n",
            "    Uninstalling python-dateutil-2.5.3:\n",
            "      Successfully uninstalled python-dateutil-2.5.3\n",
            "Successfully installed ImageHash-4.0 Pillow-6.0.0 blis-0.2.4 colorlog-4.0.2 ludwig-0.1.1 mindsdb-1.0.9 python-dateutil-2.8.0 python-engineio-3.5.1 python-socketio-4.0.1 spacy-2.1.4 srsly-0.0.5 thinc-7.0.4 wasabi-0.2.2 zope.interface-4.6.0\n"
          ],
          "name": "stdout"
        },
        {
          "output_type": "display_data",
          "data": {
            "application/vnd.colab-display-data+json": {
              "pip_warning": {
                "packages": [
                  "PIL",
                  "dateutil"
                ]
              }
            }
          },
          "metadata": {
            "tags": []
          }
        },
        {
          "output_type": "stream",
          "text": [
            "\n",
            "WARNING: The TensorFlow contrib module will not be included in TensorFlow 2.0.\n",
            "For more information, please see:\n",
            "  * https://github.com/tensorflow/community/blob/master/rfcs/20180907-contrib-sunset.md\n",
            "  * https://github.com/tensorflow/addons\n",
            "If you depend on functionality not listed there, please file an issue.\n",
            "\n"
          ],
          "name": "stdout"
        }
      ]
    },
    {
      "cell_type": "code",
      "metadata": {
        "id": "LWaOj-fKPiGH",
        "colab_type": "code",
        "outputId": "8ca37150-8d30-4d62-bfc8-55ba1cc65195",
        "colab": {
          "base_uri": "https://localhost:8080/",
          "height": 4969
        }
      },
      "source": [
        "from mindsdb import *\n",
        "\n",
        "# First we initiate MindsDB\n",
        "mdb = MindsDB(name=\"home_rentals\")\n",
        "\n",
        "# We tell mindsDB what we want to learn and from what data\n",
        "mdb.learn(\n",
        "    from_data=\"https://raw.githubusercontent.com/mindsdb/main/master/docs/examples/basic/home_rentals.csv\", # the path to the file where we can learn from, (note: can be url)\n",
        "    to_predict='rental_price' # the column we want to learn to predict given all the data in the file\n",
        ")"
      ],
      "execution_count": 0,
      "outputs": [
        {
          "output_type": "stream",
          "text": [
            "\u001b[33mWARNING:mindsdb-logger-399e6c30-74d6-11e9-9e47-0242ac1c0002:libs/phases/base_module.py:57 - 'Target phase is different than PHASE_END, Only change this for debug purposes'\u001b[0m\n",
            "\u001b[32mINFO:mindsdb-logger-399e6c30-74d6-11e9-9e47-0242ac1c0002:libs/phases/base_module.py:63 - '[START] DataExtractor'\u001b[0m\n",
            "\u001b[33mWARNING:mindsdb-logger-core-logger:libs/helpers/general_helpers.py:134 - 'could not check for MindsDB updates'\u001b[0m\n",
            "\u001b[32mINFO:mindsdb-logger-399e6c30-74d6-11e9-9e47-0242ac1c0002:libs/phases/data_extractor/data_extractor.py:243 - 'We have split the input data into:'\u001b[0m\n",
            "\u001b[32mINFO:mindsdb-logger-399e6c30-74d6-11e9-9e47-0242ac1c0002:libs/data_types/mindsdb_logger.py:110 - '----------'\u001b[0m\n",
            "\u001b[32mINFO:mindsdb-logger-399e6c30-74d6-11e9-9e47-0242ac1c0002:libs/data_types/mindsdb_logger.py:118 - 'Number of rows per subset'\u001b[0m\n",
            "\u001b[32mINFO:mindsdb-logger-399e6c30-74d6-11e9-9e47-0242ac1c0002:libs/data_types/mindsdb_logger.py:123 - '      Train: [###############-----] 4029 (79.99% of Total)'\u001b[0m\n",
            "\u001b[32mINFO:mindsdb-logger-399e6c30-74d6-11e9-9e47-0242ac1c0002:libs/data_types/mindsdb_logger.py:123 - '       Test: [##------------------] 505 (10.03% of Total)'\u001b[0m\n",
            "\u001b[32mINFO:mindsdb-logger-399e6c30-74d6-11e9-9e47-0242ac1c0002:libs/data_types/mindsdb_logger.py:123 - ' Validation: [#-------------------] 503 (9.99% of Total)'\u001b[0m\n",
            "\u001b[32mINFO:mindsdb-logger-399e6c30-74d6-11e9-9e47-0242ac1c0002:libs/data_types/mindsdb_logger.py:155 - (\"{'subsets': [[4029, 'Train'], [505, 'Test'], [503, 'Validation']], 'label': \"\n",
            " \"'Number of rows per subset'}\")\u001b[0m\n",
            "\u001b[32mINFO:mindsdb-logger-399e6c30-74d6-11e9-9e47-0242ac1c0002:libs/data_types/mindsdb_logger.py:156 - 'info type: pie'\u001b[0m\n",
            "\u001b[32mINFO:mindsdb-logger-399e6c30-74d6-11e9-9e47-0242ac1c0002:libs/data_types/mindsdb_logger.py:157 - '----------'\u001b[0m\n",
            "\u001b[32mINFO:mindsdb-logger-399e6c30-74d6-11e9-9e47-0242ac1c0002:libs/phases/base_module.py:76 - '[END] DataExtractor, execution time: 0.366 seconds'\u001b[0m\n",
            "\u001b[33mWARNING:mindsdb-logger-399e6c30-74d6-11e9-9e47-0242ac1c0002:libs/phases/base_module.py:57 - 'Target phase is different than PHASE_END, Only change this for debug purposes'\u001b[0m\n",
            "\u001b[32mINFO:mindsdb-logger-399e6c30-74d6-11e9-9e47-0242ac1c0002:libs/phases/base_module.py:63 - '[START] StatsGenerator'\u001b[0m\n",
            "\u001b[32mINFO:mindsdb-logger-399e6c30-74d6-11e9-9e47-0242ac1c0002:libs/phases/stats_generator/stats_generator.py:764 - 'population_size=5037,  sample_size=630  12.51%'\u001b[0m\n",
            "\u001b[32mINFO:mindsdb-logger-399e6c30-74d6-11e9-9e47-0242ac1c0002:libs/phases/stats_generator/stats_generator.py:731 - 'Data distribution for column \"number_of_rooms\"'\u001b[0m\n",
            "\u001b[32mINFO:mindsdb-logger-399e6c30-74d6-11e9-9e47-0242ac1c0002:libs/data_types/mindsdb_logger.py:110 - '----------'\u001b[0m\n",
            "\u001b[32mINFO:mindsdb-logger-399e6c30-74d6-11e9-9e47-0242ac1c0002:libs/data_types/mindsdb_logger.py:153 - ' Category: 630'\u001b[0m\n",
            "\u001b[32mINFO:mindsdb-logger-399e6c30-74d6-11e9-9e47-0242ac1c0002:libs/data_types/mindsdb_logger.py:157 - '----------'\u001b[0m\n",
            "\u001b[32mINFO:mindsdb-logger-399e6c30-74d6-11e9-9e47-0242ac1c0002:libs/phases/stats_generator/stats_generator.py:731 - 'Data distribution for column \"number_of_bathrooms\"'\u001b[0m\n",
            "\u001b[32mINFO:mindsdb-logger-399e6c30-74d6-11e9-9e47-0242ac1c0002:libs/data_types/mindsdb_logger.py:110 - '----------'\u001b[0m\n",
            "\u001b[32mINFO:mindsdb-logger-399e6c30-74d6-11e9-9e47-0242ac1c0002:libs/data_types/mindsdb_logger.py:153 - ' Binary Category: 630'\u001b[0m\n",
            "\u001b[32mINFO:mindsdb-logger-399e6c30-74d6-11e9-9e47-0242ac1c0002:libs/data_types/mindsdb_logger.py:157 - '----------'\u001b[0m\n",
            "\u001b[32mINFO:mindsdb-logger-399e6c30-74d6-11e9-9e47-0242ac1c0002:libs/phases/stats_generator/stats_generator.py:731 - 'Data distribution for column \"sqft\"'\u001b[0m\n",
            "\u001b[32mINFO:mindsdb-logger-399e6c30-74d6-11e9-9e47-0242ac1c0002:libs/data_types/mindsdb_logger.py:110 - '----------'\u001b[0m\n",
            "\u001b[32mINFO:mindsdb-logger-399e6c30-74d6-11e9-9e47-0242ac1c0002:libs/data_types/mindsdb_logger.py:153 - ' Int: 630'\u001b[0m\n",
            "\u001b[32mINFO:mindsdb-logger-399e6c30-74d6-11e9-9e47-0242ac1c0002:libs/data_types/mindsdb_logger.py:157 - '----------'\u001b[0m\n",
            "\u001b[32mINFO:mindsdb-logger-399e6c30-74d6-11e9-9e47-0242ac1c0002:libs/phases/stats_generator/stats_generator.py:731 - 'Data distribution for column \"location\"'\u001b[0m\n",
            "\u001b[32mINFO:mindsdb-logger-399e6c30-74d6-11e9-9e47-0242ac1c0002:libs/data_types/mindsdb_logger.py:110 - '----------'\u001b[0m\n",
            "\u001b[32mINFO:mindsdb-logger-399e6c30-74d6-11e9-9e47-0242ac1c0002:libs/data_types/mindsdb_logger.py:153 - ' Category: 630'\u001b[0m\n",
            "\u001b[32mINFO:mindsdb-logger-399e6c30-74d6-11e9-9e47-0242ac1c0002:libs/data_types/mindsdb_logger.py:157 - '----------'\u001b[0m\n",
            "\u001b[32mINFO:mindsdb-logger-399e6c30-74d6-11e9-9e47-0242ac1c0002:libs/phases/stats_generator/stats_generator.py:731 - 'Data distribution for column \"days_on_market\"'\u001b[0m\n",
            "\u001b[32mINFO:mindsdb-logger-399e6c30-74d6-11e9-9e47-0242ac1c0002:libs/data_types/mindsdb_logger.py:110 - '----------'\u001b[0m\n",
            "\u001b[32mINFO:mindsdb-logger-399e6c30-74d6-11e9-9e47-0242ac1c0002:libs/data_types/mindsdb_logger.py:153 - ' Category: 630'\u001b[0m\n",
            "\u001b[32mINFO:mindsdb-logger-399e6c30-74d6-11e9-9e47-0242ac1c0002:libs/data_types/mindsdb_logger.py:157 - '----------'\u001b[0m\n",
            "\u001b[33mWARNING:mindsdb-logger-399e6c30-74d6-11e9-9e47-0242ac1c0002:libs/phases/stats_generator/stats_generator.py:656 - ('The data in the column initial_price is likely somewhat redundant, any '\n",
            " 'insight it can give us can already by deduced from your other columns. '\n",
            " 'Please see the detailed logs bellow for more info')\u001b[0m\n",
            "\u001b[33mWARNING:mindsdb-logger-399e6c30-74d6-11e9-9e47-0242ac1c0002:libs/phases/stats_generator/stats_generator.py:717 - ('Column initial_price and rental_price are 73.48789682074145% the same, '\n",
            " 'please make sure these represent two distinct features of your data !')\u001b[0m\n",
            "\u001b[32mINFO:mindsdb-logger-399e6c30-74d6-11e9-9e47-0242ac1c0002:libs/phases/stats_generator/stats_generator.py:731 - 'Data distribution for column \"initial_price\"'\u001b[0m\n",
            "\u001b[32mINFO:mindsdb-logger-399e6c30-74d6-11e9-9e47-0242ac1c0002:libs/data_types/mindsdb_logger.py:110 - '----------'\u001b[0m\n",
            "\u001b[32mINFO:mindsdb-logger-399e6c30-74d6-11e9-9e47-0242ac1c0002:libs/data_types/mindsdb_logger.py:153 - ' Int: 630'\u001b[0m\n",
            "\u001b[32mINFO:mindsdb-logger-399e6c30-74d6-11e9-9e47-0242ac1c0002:libs/data_types/mindsdb_logger.py:157 - '----------'\u001b[0m\n",
            "\u001b[32mINFO:mindsdb-logger-399e6c30-74d6-11e9-9e47-0242ac1c0002:libs/phases/stats_generator/stats_generator.py:731 - 'Data distribution for column \"neighborhood\"'\u001b[0m\n",
            "\u001b[32mINFO:mindsdb-logger-399e6c30-74d6-11e9-9e47-0242ac1c0002:libs/data_types/mindsdb_logger.py:110 - '----------'\u001b[0m\n",
            "\u001b[32mINFO:mindsdb-logger-399e6c30-74d6-11e9-9e47-0242ac1c0002:libs/data_types/mindsdb_logger.py:153 - ' Category: 630'\u001b[0m\n",
            "\u001b[32mINFO:mindsdb-logger-399e6c30-74d6-11e9-9e47-0242ac1c0002:libs/data_types/mindsdb_logger.py:157 - '----------'\u001b[0m\n",
            "\u001b[33mWARNING:mindsdb-logger-399e6c30-74d6-11e9-9e47-0242ac1c0002:libs/phases/stats_generator/stats_generator.py:656 - ('The data in the column rental_price is likely somewhat redundant, any '\n",
            " 'insight it can give us can already by deduced from your other columns. '\n",
            " 'Please see the detailed logs bellow for more info')\u001b[0m\n",
            "\u001b[33mWARNING:mindsdb-logger-399e6c30-74d6-11e9-9e47-0242ac1c0002:libs/phases/stats_generator/stats_generator.py:717 - ('Column rental_price and initial_price are 73.48789682074145% the same, '\n",
            " 'please make sure these represent two distinct features of your data !')\u001b[0m\n",
            "\u001b[32mINFO:mindsdb-logger-399e6c30-74d6-11e9-9e47-0242ac1c0002:libs/phases/stats_generator/stats_generator.py:731 - 'Data distribution for column \"rental_price\"'\u001b[0m\n",
            "\u001b[32mINFO:mindsdb-logger-399e6c30-74d6-11e9-9e47-0242ac1c0002:libs/data_types/mindsdb_logger.py:110 - '----------'\u001b[0m\n",
            "\u001b[32mINFO:mindsdb-logger-399e6c30-74d6-11e9-9e47-0242ac1c0002:libs/data_types/mindsdb_logger.py:153 - '   Int: 464'\u001b[0m\n",
            "\u001b[32mINFO:mindsdb-logger-399e6c30-74d6-11e9-9e47-0242ac1c0002:libs/data_types/mindsdb_logger.py:153 - ' Float: 166'\u001b[0m\n",
            "\u001b[32mINFO:mindsdb-logger-399e6c30-74d6-11e9-9e47-0242ac1c0002:libs/data_types/mindsdb_logger.py:157 - '----------'\u001b[0m\n",
            "\u001b[32mINFO:mindsdb-logger-399e6c30-74d6-11e9-9e47-0242ac1c0002:libs/phases/base_module.py:76 - '[END] StatsGenerator, execution time: 1.796 seconds'\u001b[0m\n",
            "/usr/local/lib/python3.6/dist-packages/ludwig/features/numerical_feature.py:63: FutureWarning: Method .as_matrix will be removed in a future version. Use .values instead.\n",
            "  np.float32).as_matrix()\n"
          ],
          "name": "stderr"
        },
        {
          "output_type": "stream",
          "text": [
            "Can't disable output on Jupyter notebook\n",
            "Can't disable output on Jupyter notebook\n",
            "WARNING:tensorflow:From /usr/local/lib/python3.6/dist-packages/tensorflow/python/framework/op_def_library.py:263: colocate_with (from tensorflow.python.framework.ops) is deprecated and will be removed in a future version.\n",
            "Instructions for updating:\n",
            "Colocations handled automatically by placer.\n"
          ],
          "name": "stdout"
        },
        {
          "output_type": "stream",
          "text": [
            "WARNING:tensorflow:From /usr/local/lib/python3.6/dist-packages/tensorflow/python/framework/op_def_library.py:263: colocate_with (from tensorflow.python.framework.ops) is deprecated and will be removed in a future version.\n",
            "Instructions for updating:\n",
            "Colocations handled automatically by placer.\n"
          ],
          "name": "stderr"
        },
        {
          "output_type": "stream",
          "text": [
            "WARNING:tensorflow:From /usr/local/lib/python3.6/dist-packages/tensorflow/python/ops/losses/losses_impl.py:667: to_float (from tensorflow.python.ops.math_ops) is deprecated and will be removed in a future version.\n",
            "Instructions for updating:\n",
            "Use tf.cast instead.\n"
          ],
          "name": "stdout"
        },
        {
          "output_type": "stream",
          "text": [
            "WARNING:tensorflow:From /usr/local/lib/python3.6/dist-packages/tensorflow/python/ops/losses/losses_impl.py:667: to_float (from tensorflow.python.ops.math_ops) is deprecated and will be removed in a future version.\n",
            "Instructions for updating:\n",
            "Use tf.cast instead.\n"
          ],
          "name": "stderr"
        },
        {
          "output_type": "stream",
          "text": [
            "WARNING:tensorflow:From /usr/local/lib/python3.6/dist-packages/tensorflow/python/ops/array_grad.py:425: to_int32 (from tensorflow.python.ops.math_ops) is deprecated and will be removed in a future version.\n",
            "Instructions for updating:\n",
            "Use tf.cast instead.\n"
          ],
          "name": "stdout"
        },
        {
          "output_type": "stream",
          "text": [
            "WARNING:tensorflow:From /usr/local/lib/python3.6/dist-packages/tensorflow/python/ops/array_grad.py:425: to_int32 (from tensorflow.python.ops.math_ops) is deprecated and will be removed in a future version.\n",
            "Instructions for updating:\n",
            "Use tf.cast instead.\n",
            "\u001b[33mWARNING:mindsdb-logger-399e6c30-74d6-11e9-9e47-0242ac1c0002:libs/phases/base_module.py:57 - 'Target phase is different than PHASE_END, Only change this for debug purposes'\u001b[0m\n",
            "\u001b[32mINFO:mindsdb-logger-399e6c30-74d6-11e9-9e47-0242ac1c0002:libs/phases/base_module.py:63 - '[START] ModelAnalyzer'\u001b[0m\n"
          ],
          "name": "stderr"
        },
        {
          "output_type": "stream",
          "text": [
            "Can't disable output on Jupyter notebook\n",
            "Can't disable output on Jupyter notebook\n",
            "Can't disable output on Jupyter notebook\n",
            "WARNING:tensorflow:From /usr/local/lib/python3.6/dist-packages/tensorflow/python/training/saver.py:1266: checkpoint_exists (from tensorflow.python.training.checkpoint_management) is deprecated and will be removed in a future version.\n",
            "Instructions for updating:\n",
            "Use standard file APIs to check for files with this prefix.\n"
          ],
          "name": "stdout"
        },
        {
          "output_type": "stream",
          "text": [
            "WARNING:tensorflow:From /usr/local/lib/python3.6/dist-packages/tensorflow/python/training/saver.py:1266: checkpoint_exists (from tensorflow.python.training.checkpoint_management) is deprecated and will be removed in a future version.\n",
            "Instructions for updating:\n",
            "Use standard file APIs to check for files with this prefix.\n"
          ],
          "name": "stderr"
        },
        {
          "output_type": "stream",
          "text": [
            "INFO:tensorflow:Restoring parameters from /usr/local/lib/python3.6/dist-packages/mindsdb_storage/1_0_9/home_rentals_ludwig_data/model_weights\n"
          ],
          "name": "stdout"
        },
        {
          "output_type": "stream",
          "text": [
            "INFO:tensorflow:Restoring parameters from /usr/local/lib/python3.6/dist-packages/mindsdb_storage/1_0_9/home_rentals_ludwig_data/model_weights\n"
          ],
          "name": "stderr"
        },
        {
          "output_type": "stream",
          "text": [
            "Can't disable output on Jupyter notebook\n"
          ],
          "name": "stdout"
        },
        {
          "output_type": "stream",
          "text": [
            "\u001b[32mINFO:mindsdb-logger-399e6c30-74d6-11e9-9e47-0242ac1c0002:libs/phases/stats_generator/stats_generator.py:764 - 'population_size=503,  sample_size=503  100.00%'\u001b[0m\n",
            "\u001b[32mINFO:mindsdb-logger-399e6c30-74d6-11e9-9e47-0242ac1c0002:libs/phases/stats_generator/stats_generator.py:731 - 'Data distribution for column \"rental_price\"'\u001b[0m\n",
            "\u001b[32mINFO:mindsdb-logger-399e6c30-74d6-11e9-9e47-0242ac1c0002:libs/data_types/mindsdb_logger.py:110 - '----------'\u001b[0m\n",
            "\u001b[32mINFO:mindsdb-logger-399e6c30-74d6-11e9-9e47-0242ac1c0002:libs/data_types/mindsdb_logger.py:153 - ' Int: 503'\u001b[0m\n",
            "\u001b[32mINFO:mindsdb-logger-399e6c30-74d6-11e9-9e47-0242ac1c0002:libs/data_types/mindsdb_logger.py:157 - '----------'\u001b[0m\n"
          ],
          "name": "stderr"
        },
        {
          "output_type": "stream",
          "text": [
            "Can't disable output on Jupyter notebook\n",
            "Can't disable output on Jupyter notebook\n",
            "INFO:tensorflow:Restoring parameters from /usr/local/lib/python3.6/dist-packages/mindsdb_storage/1_0_9/home_rentals_ludwig_data/model_weights\n"
          ],
          "name": "stdout"
        },
        {
          "output_type": "stream",
          "text": [
            "/usr/local/lib/python3.6/dist-packages/ludwig/features/numerical_feature.py:63: FutureWarning: Method .as_matrix will be removed in a future version. Use .values instead.\n",
            "  np.float32).as_matrix()\n",
            "INFO:tensorflow:Restoring parameters from /usr/local/lib/python3.6/dist-packages/mindsdb_storage/1_0_9/home_rentals_ludwig_data/model_weights\n"
          ],
          "name": "stderr"
        },
        {
          "output_type": "stream",
          "text": [
            "Can't disable output on Jupyter notebook\n",
            "Can't disable output on Jupyter notebook\n",
            "Can't disable output on Jupyter notebook\n",
            "INFO:tensorflow:Restoring parameters from /usr/local/lib/python3.6/dist-packages/mindsdb_storage/1_0_9/home_rentals_ludwig_data/model_weights\n"
          ],
          "name": "stdout"
        },
        {
          "output_type": "stream",
          "text": [
            "INFO:tensorflow:Restoring parameters from /usr/local/lib/python3.6/dist-packages/mindsdb_storage/1_0_9/home_rentals_ludwig_data/model_weights\n",
            "\u001b[32mINFO:mindsdb-logger-399e6c30-74d6-11e9-9e47-0242ac1c0002:libs/phases/stats_generator/stats_generator.py:764 - 'population_size=503,  sample_size=503  100.00%'\u001b[0m\n"
          ],
          "name": "stderr"
        },
        {
          "output_type": "stream",
          "text": [
            "Can't disable output on Jupyter notebook\n"
          ],
          "name": "stdout"
        },
        {
          "output_type": "stream",
          "text": [
            "\u001b[32mINFO:mindsdb-logger-399e6c30-74d6-11e9-9e47-0242ac1c0002:libs/phases/stats_generator/stats_generator.py:731 - 'Data distribution for column \"rental_price\"'\u001b[0m\n",
            "\u001b[32mINFO:mindsdb-logger-399e6c30-74d6-11e9-9e47-0242ac1c0002:libs/data_types/mindsdb_logger.py:110 - '----------'\u001b[0m\n",
            "\u001b[32mINFO:mindsdb-logger-399e6c30-74d6-11e9-9e47-0242ac1c0002:libs/data_types/mindsdb_logger.py:153 - ' Int: 503'\u001b[0m\n",
            "\u001b[32mINFO:mindsdb-logger-399e6c30-74d6-11e9-9e47-0242ac1c0002:libs/data_types/mindsdb_logger.py:157 - '----------'\u001b[0m\n",
            "\u001b[32mINFO:mindsdb-logger-399e6c30-74d6-11e9-9e47-0242ac1c0002:libs/phases/stats_generator/stats_generator.py:764 - 'population_size=503,  sample_size=503  100.00%'\u001b[0m\n",
            "\u001b[32mINFO:mindsdb-logger-399e6c30-74d6-11e9-9e47-0242ac1c0002:libs/phases/stats_generator/stats_generator.py:731 - 'Data distribution for column \"number_of_rooms_bucket_None\"'\u001b[0m\n",
            "\u001b[32mINFO:mindsdb-logger-399e6c30-74d6-11e9-9e47-0242ac1c0002:libs/data_types/mindsdb_logger.py:110 - '----------'\u001b[0m\n",
            "\u001b[32mINFO:mindsdb-logger-399e6c30-74d6-11e9-9e47-0242ac1c0002:libs/data_types/mindsdb_logger.py:153 - ' Category: 503'\u001b[0m\n",
            "\u001b[32mINFO:mindsdb-logger-399e6c30-74d6-11e9-9e47-0242ac1c0002:libs/data_types/mindsdb_logger.py:157 - '----------'\u001b[0m\n"
          ],
          "name": "stderr"
        },
        {
          "output_type": "stream",
          "text": [
            "Can't disable output on Jupyter notebook\n",
            "Can't disable output on Jupyter notebook\n",
            "INFO:tensorflow:Restoring parameters from /usr/local/lib/python3.6/dist-packages/mindsdb_storage/1_0_9/home_rentals_ludwig_data/model_weights\n"
          ],
          "name": "stdout"
        },
        {
          "output_type": "stream",
          "text": [
            "/usr/local/lib/python3.6/dist-packages/ludwig/features/numerical_feature.py:63: FutureWarning: Method .as_matrix will be removed in a future version. Use .values instead.\n",
            "  np.float32).as_matrix()\n",
            "INFO:tensorflow:Restoring parameters from /usr/local/lib/python3.6/dist-packages/mindsdb_storage/1_0_9/home_rentals_ludwig_data/model_weights\n"
          ],
          "name": "stderr"
        },
        {
          "output_type": "stream",
          "text": [
            "Can't disable output on Jupyter notebook\n",
            "Can't disable output on Jupyter notebook\n",
            "Can't disable output on Jupyter notebook\n",
            "INFO:tensorflow:Restoring parameters from /usr/local/lib/python3.6/dist-packages/mindsdb_storage/1_0_9/home_rentals_ludwig_data/model_weights\n"
          ],
          "name": "stdout"
        },
        {
          "output_type": "stream",
          "text": [
            "INFO:tensorflow:Restoring parameters from /usr/local/lib/python3.6/dist-packages/mindsdb_storage/1_0_9/home_rentals_ludwig_data/model_weights\n",
            "\u001b[32mINFO:mindsdb-logger-399e6c30-74d6-11e9-9e47-0242ac1c0002:libs/phases/stats_generator/stats_generator.py:764 - 'population_size=503,  sample_size=503  100.00%'\u001b[0m\n"
          ],
          "name": "stderr"
        },
        {
          "output_type": "stream",
          "text": [
            "Can't disable output on Jupyter notebook\n"
          ],
          "name": "stdout"
        },
        {
          "output_type": "stream",
          "text": [
            "\u001b[32mINFO:mindsdb-logger-399e6c30-74d6-11e9-9e47-0242ac1c0002:libs/phases/stats_generator/stats_generator.py:731 - 'Data distribution for column \"rental_price\"'\u001b[0m\n",
            "\u001b[32mINFO:mindsdb-logger-399e6c30-74d6-11e9-9e47-0242ac1c0002:libs/data_types/mindsdb_logger.py:110 - '----------'\u001b[0m\n",
            "\u001b[32mINFO:mindsdb-logger-399e6c30-74d6-11e9-9e47-0242ac1c0002:libs/data_types/mindsdb_logger.py:153 - ' Int: 503'\u001b[0m\n",
            "\u001b[32mINFO:mindsdb-logger-399e6c30-74d6-11e9-9e47-0242ac1c0002:libs/data_types/mindsdb_logger.py:157 - '----------'\u001b[0m\n",
            "\u001b[32mINFO:mindsdb-logger-399e6c30-74d6-11e9-9e47-0242ac1c0002:libs/phases/stats_generator/stats_generator.py:764 - 'population_size=503,  sample_size=503  100.00%'\u001b[0m\n",
            "\u001b[32mINFO:mindsdb-logger-399e6c30-74d6-11e9-9e47-0242ac1c0002:libs/phases/stats_generator/stats_generator.py:731 - 'Data distribution for column \"number_of_bathrooms_bucket_None\"'\u001b[0m\n",
            "\u001b[32mINFO:mindsdb-logger-399e6c30-74d6-11e9-9e47-0242ac1c0002:libs/data_types/mindsdb_logger.py:110 - '----------'\u001b[0m\n",
            "\u001b[32mINFO:mindsdb-logger-399e6c30-74d6-11e9-9e47-0242ac1c0002:libs/data_types/mindsdb_logger.py:153 - ' Binary Category: 503'\u001b[0m\n",
            "\u001b[32mINFO:mindsdb-logger-399e6c30-74d6-11e9-9e47-0242ac1c0002:libs/data_types/mindsdb_logger.py:157 - '----------'\u001b[0m\n"
          ],
          "name": "stderr"
        },
        {
          "output_type": "stream",
          "text": [
            "Can't disable output on Jupyter notebook\n",
            "Can't disable output on Jupyter notebook\n",
            "INFO:tensorflow:Restoring parameters from /usr/local/lib/python3.6/dist-packages/mindsdb_storage/1_0_9/home_rentals_ludwig_data/model_weights\n"
          ],
          "name": "stdout"
        },
        {
          "output_type": "stream",
          "text": [
            "/usr/local/lib/python3.6/dist-packages/ludwig/features/numerical_feature.py:63: FutureWarning: Method .as_matrix will be removed in a future version. Use .values instead.\n",
            "  np.float32).as_matrix()\n",
            "INFO:tensorflow:Restoring parameters from /usr/local/lib/python3.6/dist-packages/mindsdb_storage/1_0_9/home_rentals_ludwig_data/model_weights\n"
          ],
          "name": "stderr"
        },
        {
          "output_type": "stream",
          "text": [
            "Can't disable output on Jupyter notebook\n",
            "Can't disable output on Jupyter notebook\n",
            "Can't disable output on Jupyter notebook\n",
            "INFO:tensorflow:Restoring parameters from /usr/local/lib/python3.6/dist-packages/mindsdb_storage/1_0_9/home_rentals_ludwig_data/model_weights\n"
          ],
          "name": "stdout"
        },
        {
          "output_type": "stream",
          "text": [
            "INFO:tensorflow:Restoring parameters from /usr/local/lib/python3.6/dist-packages/mindsdb_storage/1_0_9/home_rentals_ludwig_data/model_weights\n",
            "\u001b[32mINFO:mindsdb-logger-399e6c30-74d6-11e9-9e47-0242ac1c0002:libs/phases/stats_generator/stats_generator.py:764 - 'population_size=503,  sample_size=503  100.00%'\u001b[0m\n"
          ],
          "name": "stderr"
        },
        {
          "output_type": "stream",
          "text": [
            "Can't disable output on Jupyter notebook\n"
          ],
          "name": "stdout"
        },
        {
          "output_type": "stream",
          "text": [
            "\u001b[32mINFO:mindsdb-logger-399e6c30-74d6-11e9-9e47-0242ac1c0002:libs/phases/stats_generator/stats_generator.py:731 - 'Data distribution for column \"rental_price\"'\u001b[0m\n",
            "\u001b[32mINFO:mindsdb-logger-399e6c30-74d6-11e9-9e47-0242ac1c0002:libs/data_types/mindsdb_logger.py:110 - '----------'\u001b[0m\n",
            "\u001b[32mINFO:mindsdb-logger-399e6c30-74d6-11e9-9e47-0242ac1c0002:libs/data_types/mindsdb_logger.py:153 - ' Int: 503'\u001b[0m\n",
            "\u001b[32mINFO:mindsdb-logger-399e6c30-74d6-11e9-9e47-0242ac1c0002:libs/data_types/mindsdb_logger.py:157 - '----------'\u001b[0m\n"
          ],
          "name": "stderr"
        },
        {
          "output_type": "stream",
          "text": [
            "Can't disable output on Jupyter notebook\n",
            "Can't disable output on Jupyter notebook\n",
            "INFO:tensorflow:Restoring parameters from /usr/local/lib/python3.6/dist-packages/mindsdb_storage/1_0_9/home_rentals_ludwig_data/model_weights\n"
          ],
          "name": "stdout"
        },
        {
          "output_type": "stream",
          "text": [
            "/usr/local/lib/python3.6/dist-packages/ludwig/features/numerical_feature.py:63: FutureWarning: Method .as_matrix will be removed in a future version. Use .values instead.\n",
            "  np.float32).as_matrix()\n",
            "INFO:tensorflow:Restoring parameters from /usr/local/lib/python3.6/dist-packages/mindsdb_storage/1_0_9/home_rentals_ludwig_data/model_weights\n"
          ],
          "name": "stderr"
        },
        {
          "output_type": "stream",
          "text": [
            "Can't disable output on Jupyter notebook\n",
            "Can't disable output on Jupyter notebook\n",
            "Can't disable output on Jupyter notebook\n",
            "INFO:tensorflow:Restoring parameters from /usr/local/lib/python3.6/dist-packages/mindsdb_storage/1_0_9/home_rentals_ludwig_data/model_weights\n"
          ],
          "name": "stdout"
        },
        {
          "output_type": "stream",
          "text": [
            "INFO:tensorflow:Restoring parameters from /usr/local/lib/python3.6/dist-packages/mindsdb_storage/1_0_9/home_rentals_ludwig_data/model_weights\n",
            "\u001b[32mINFO:mindsdb-logger-399e6c30-74d6-11e9-9e47-0242ac1c0002:libs/phases/stats_generator/stats_generator.py:764 - 'population_size=503,  sample_size=503  100.00%'\u001b[0m\n"
          ],
          "name": "stderr"
        },
        {
          "output_type": "stream",
          "text": [
            "Can't disable output on Jupyter notebook\n"
          ],
          "name": "stdout"
        },
        {
          "output_type": "stream",
          "text": [
            "\u001b[32mINFO:mindsdb-logger-399e6c30-74d6-11e9-9e47-0242ac1c0002:libs/phases/stats_generator/stats_generator.py:731 - 'Data distribution for column \"rental_price\"'\u001b[0m\n",
            "\u001b[32mINFO:mindsdb-logger-399e6c30-74d6-11e9-9e47-0242ac1c0002:libs/data_types/mindsdb_logger.py:110 - '----------'\u001b[0m\n",
            "\u001b[32mINFO:mindsdb-logger-399e6c30-74d6-11e9-9e47-0242ac1c0002:libs/data_types/mindsdb_logger.py:153 - ' Int: 503'\u001b[0m\n",
            "\u001b[32mINFO:mindsdb-logger-399e6c30-74d6-11e9-9e47-0242ac1c0002:libs/data_types/mindsdb_logger.py:157 - '----------'\u001b[0m\n",
            "\u001b[32mINFO:mindsdb-logger-399e6c30-74d6-11e9-9e47-0242ac1c0002:libs/phases/stats_generator/stats_generator.py:764 - 'population_size=503,  sample_size=503  100.00%'\u001b[0m\n",
            "\u001b[32mINFO:mindsdb-logger-399e6c30-74d6-11e9-9e47-0242ac1c0002:libs/phases/stats_generator/stats_generator.py:731 - 'Data distribution for column \"location_bucket_None\"'\u001b[0m\n",
            "\u001b[32mINFO:mindsdb-logger-399e6c30-74d6-11e9-9e47-0242ac1c0002:libs/data_types/mindsdb_logger.py:110 - '----------'\u001b[0m\n",
            "\u001b[32mINFO:mindsdb-logger-399e6c30-74d6-11e9-9e47-0242ac1c0002:libs/data_types/mindsdb_logger.py:153 - ' Category: 503'\u001b[0m\n",
            "\u001b[32mINFO:mindsdb-logger-399e6c30-74d6-11e9-9e47-0242ac1c0002:libs/data_types/mindsdb_logger.py:157 - '----------'\u001b[0m\n"
          ],
          "name": "stderr"
        },
        {
          "output_type": "stream",
          "text": [
            "Can't disable output on Jupyter notebook\n",
            "Can't disable output on Jupyter notebook\n",
            "INFO:tensorflow:Restoring parameters from /usr/local/lib/python3.6/dist-packages/mindsdb_storage/1_0_9/home_rentals_ludwig_data/model_weights\n"
          ],
          "name": "stdout"
        },
        {
          "output_type": "stream",
          "text": [
            "/usr/local/lib/python3.6/dist-packages/ludwig/features/numerical_feature.py:63: FutureWarning: Method .as_matrix will be removed in a future version. Use .values instead.\n",
            "  np.float32).as_matrix()\n",
            "INFO:tensorflow:Restoring parameters from /usr/local/lib/python3.6/dist-packages/mindsdb_storage/1_0_9/home_rentals_ludwig_data/model_weights\n"
          ],
          "name": "stderr"
        },
        {
          "output_type": "stream",
          "text": [
            "Can't disable output on Jupyter notebook\n",
            "Can't disable output on Jupyter notebook\n",
            "Can't disable output on Jupyter notebook\n",
            "INFO:tensorflow:Restoring parameters from /usr/local/lib/python3.6/dist-packages/mindsdb_storage/1_0_9/home_rentals_ludwig_data/model_weights\n"
          ],
          "name": "stdout"
        },
        {
          "output_type": "stream",
          "text": [
            "INFO:tensorflow:Restoring parameters from /usr/local/lib/python3.6/dist-packages/mindsdb_storage/1_0_9/home_rentals_ludwig_data/model_weights\n",
            "\u001b[32mINFO:mindsdb-logger-399e6c30-74d6-11e9-9e47-0242ac1c0002:libs/phases/stats_generator/stats_generator.py:764 - 'population_size=503,  sample_size=503  100.00%'\u001b[0m\n"
          ],
          "name": "stderr"
        },
        {
          "output_type": "stream",
          "text": [
            "Can't disable output on Jupyter notebook\n"
          ],
          "name": "stdout"
        },
        {
          "output_type": "stream",
          "text": [
            "\u001b[32mINFO:mindsdb-logger-399e6c30-74d6-11e9-9e47-0242ac1c0002:libs/phases/stats_generator/stats_generator.py:731 - 'Data distribution for column \"rental_price\"'\u001b[0m\n",
            "\u001b[32mINFO:mindsdb-logger-399e6c30-74d6-11e9-9e47-0242ac1c0002:libs/data_types/mindsdb_logger.py:110 - '----------'\u001b[0m\n",
            "\u001b[32mINFO:mindsdb-logger-399e6c30-74d6-11e9-9e47-0242ac1c0002:libs/data_types/mindsdb_logger.py:153 - ' Int: 503'\u001b[0m\n",
            "\u001b[32mINFO:mindsdb-logger-399e6c30-74d6-11e9-9e47-0242ac1c0002:libs/data_types/mindsdb_logger.py:157 - '----------'\u001b[0m\n",
            "\u001b[32mINFO:mindsdb-logger-399e6c30-74d6-11e9-9e47-0242ac1c0002:libs/phases/stats_generator/stats_generator.py:764 - 'population_size=503,  sample_size=503  100.00%'\u001b[0m\n",
            "\u001b[32mINFO:mindsdb-logger-399e6c30-74d6-11e9-9e47-0242ac1c0002:libs/phases/stats_generator/stats_generator.py:731 - 'Data distribution for column \"days_on_market_bucket_None\"'\u001b[0m\n",
            "\u001b[32mINFO:mindsdb-logger-399e6c30-74d6-11e9-9e47-0242ac1c0002:libs/data_types/mindsdb_logger.py:110 - '----------'\u001b[0m\n",
            "\u001b[32mINFO:mindsdb-logger-399e6c30-74d6-11e9-9e47-0242ac1c0002:libs/data_types/mindsdb_logger.py:153 - ' Category: 503'\u001b[0m\n",
            "\u001b[32mINFO:mindsdb-logger-399e6c30-74d6-11e9-9e47-0242ac1c0002:libs/data_types/mindsdb_logger.py:157 - '----------'\u001b[0m\n"
          ],
          "name": "stderr"
        },
        {
          "output_type": "stream",
          "text": [
            "Can't disable output on Jupyter notebook\n",
            "Can't disable output on Jupyter notebook\n",
            "INFO:tensorflow:Restoring parameters from /usr/local/lib/python3.6/dist-packages/mindsdb_storage/1_0_9/home_rentals_ludwig_data/model_weights\n"
          ],
          "name": "stdout"
        },
        {
          "output_type": "stream",
          "text": [
            "/usr/local/lib/python3.6/dist-packages/ludwig/features/numerical_feature.py:63: FutureWarning: Method .as_matrix will be removed in a future version. Use .values instead.\n",
            "  np.float32).as_matrix()\n",
            "INFO:tensorflow:Restoring parameters from /usr/local/lib/python3.6/dist-packages/mindsdb_storage/1_0_9/home_rentals_ludwig_data/model_weights\n"
          ],
          "name": "stderr"
        },
        {
          "output_type": "stream",
          "text": [
            "Can't disable output on Jupyter notebook\n",
            "Can't disable output on Jupyter notebook\n",
            "Can't disable output on Jupyter notebook\n",
            "INFO:tensorflow:Restoring parameters from /usr/local/lib/python3.6/dist-packages/mindsdb_storage/1_0_9/home_rentals_ludwig_data/model_weights\n"
          ],
          "name": "stdout"
        },
        {
          "output_type": "stream",
          "text": [
            "INFO:tensorflow:Restoring parameters from /usr/local/lib/python3.6/dist-packages/mindsdb_storage/1_0_9/home_rentals_ludwig_data/model_weights\n",
            "\u001b[32mINFO:mindsdb-logger-399e6c30-74d6-11e9-9e47-0242ac1c0002:libs/phases/stats_generator/stats_generator.py:764 - 'population_size=503,  sample_size=503  100.00%'\u001b[0m\n"
          ],
          "name": "stderr"
        },
        {
          "output_type": "stream",
          "text": [
            "Can't disable output on Jupyter notebook\n"
          ],
          "name": "stdout"
        },
        {
          "output_type": "stream",
          "text": [
            "\u001b[32mINFO:mindsdb-logger-399e6c30-74d6-11e9-9e47-0242ac1c0002:libs/phases/stats_generator/stats_generator.py:731 - 'Data distribution for column \"rental_price\"'\u001b[0m\n",
            "\u001b[32mINFO:mindsdb-logger-399e6c30-74d6-11e9-9e47-0242ac1c0002:libs/data_types/mindsdb_logger.py:110 - '----------'\u001b[0m\n",
            "\u001b[32mINFO:mindsdb-logger-399e6c30-74d6-11e9-9e47-0242ac1c0002:libs/data_types/mindsdb_logger.py:153 - ' Int: 503'\u001b[0m\n",
            "\u001b[32mINFO:mindsdb-logger-399e6c30-74d6-11e9-9e47-0242ac1c0002:libs/data_types/mindsdb_logger.py:157 - '----------'\u001b[0m\n"
          ],
          "name": "stderr"
        },
        {
          "output_type": "stream",
          "text": [
            "Can't disable output on Jupyter notebook\n",
            "Can't disable output on Jupyter notebook\n",
            "INFO:tensorflow:Restoring parameters from /usr/local/lib/python3.6/dist-packages/mindsdb_storage/1_0_9/home_rentals_ludwig_data/model_weights\n"
          ],
          "name": "stdout"
        },
        {
          "output_type": "stream",
          "text": [
            "/usr/local/lib/python3.6/dist-packages/ludwig/features/numerical_feature.py:63: FutureWarning: Method .as_matrix will be removed in a future version. Use .values instead.\n",
            "  np.float32).as_matrix()\n",
            "INFO:tensorflow:Restoring parameters from /usr/local/lib/python3.6/dist-packages/mindsdb_storage/1_0_9/home_rentals_ludwig_data/model_weights\n"
          ],
          "name": "stderr"
        },
        {
          "output_type": "stream",
          "text": [
            "Can't disable output on Jupyter notebook\n",
            "Can't disable output on Jupyter notebook\n",
            "Can't disable output on Jupyter notebook\n",
            "INFO:tensorflow:Restoring parameters from /usr/local/lib/python3.6/dist-packages/mindsdb_storage/1_0_9/home_rentals_ludwig_data/model_weights\n"
          ],
          "name": "stdout"
        },
        {
          "output_type": "stream",
          "text": [
            "INFO:tensorflow:Restoring parameters from /usr/local/lib/python3.6/dist-packages/mindsdb_storage/1_0_9/home_rentals_ludwig_data/model_weights\n",
            "\u001b[32mINFO:mindsdb-logger-399e6c30-74d6-11e9-9e47-0242ac1c0002:libs/phases/stats_generator/stats_generator.py:764 - 'population_size=503,  sample_size=503  100.00%'\u001b[0m\n"
          ],
          "name": "stderr"
        },
        {
          "output_type": "stream",
          "text": [
            "Can't disable output on Jupyter notebook\n"
          ],
          "name": "stdout"
        },
        {
          "output_type": "stream",
          "text": [
            "\u001b[32mINFO:mindsdb-logger-399e6c30-74d6-11e9-9e47-0242ac1c0002:libs/phases/stats_generator/stats_generator.py:731 - 'Data distribution for column \"rental_price\"'\u001b[0m\n",
            "\u001b[32mINFO:mindsdb-logger-399e6c30-74d6-11e9-9e47-0242ac1c0002:libs/data_types/mindsdb_logger.py:110 - '----------'\u001b[0m\n",
            "\u001b[32mINFO:mindsdb-logger-399e6c30-74d6-11e9-9e47-0242ac1c0002:libs/data_types/mindsdb_logger.py:153 - ' Int: 503'\u001b[0m\n",
            "\u001b[32mINFO:mindsdb-logger-399e6c30-74d6-11e9-9e47-0242ac1c0002:libs/data_types/mindsdb_logger.py:157 - '----------'\u001b[0m\n",
            "\u001b[32mINFO:mindsdb-logger-399e6c30-74d6-11e9-9e47-0242ac1c0002:libs/phases/stats_generator/stats_generator.py:764 - 'population_size=503,  sample_size=503  100.00%'\u001b[0m\n",
            "\u001b[32mINFO:mindsdb-logger-399e6c30-74d6-11e9-9e47-0242ac1c0002:libs/phases/stats_generator/stats_generator.py:731 - 'Data distribution for column \"neighborhood_bucket_None\"'\u001b[0m\n",
            "\u001b[32mINFO:mindsdb-logger-399e6c30-74d6-11e9-9e47-0242ac1c0002:libs/data_types/mindsdb_logger.py:110 - '----------'\u001b[0m\n",
            "\u001b[32mINFO:mindsdb-logger-399e6c30-74d6-11e9-9e47-0242ac1c0002:libs/data_types/mindsdb_logger.py:153 - ' Category: 503'\u001b[0m\n",
            "\u001b[32mINFO:mindsdb-logger-399e6c30-74d6-11e9-9e47-0242ac1c0002:libs/data_types/mindsdb_logger.py:157 - '----------'\u001b[0m\n"
          ],
          "name": "stderr"
        },
        {
          "output_type": "stream",
          "text": [
            "Can't disable output on Jupyter notebook\n",
            "Can't disable output on Jupyter notebook\n",
            "INFO:tensorflow:Restoring parameters from /usr/local/lib/python3.6/dist-packages/mindsdb_storage/1_0_9/home_rentals_ludwig_data/model_weights\n"
          ],
          "name": "stdout"
        },
        {
          "output_type": "stream",
          "text": [
            "/usr/local/lib/python3.6/dist-packages/ludwig/features/numerical_feature.py:63: FutureWarning: Method .as_matrix will be removed in a future version. Use .values instead.\n",
            "  np.float32).as_matrix()\n",
            "INFO:tensorflow:Restoring parameters from /usr/local/lib/python3.6/dist-packages/mindsdb_storage/1_0_9/home_rentals_ludwig_data/model_weights\n"
          ],
          "name": "stderr"
        },
        {
          "output_type": "stream",
          "text": [
            "Can't disable output on Jupyter notebook\n",
            "Can't disable output on Jupyter notebook\n",
            "Can't disable output on Jupyter notebook\n",
            "INFO:tensorflow:Restoring parameters from /usr/local/lib/python3.6/dist-packages/mindsdb_storage/1_0_9/home_rentals_ludwig_data/model_weights\n"
          ],
          "name": "stdout"
        },
        {
          "output_type": "stream",
          "text": [
            "INFO:tensorflow:Restoring parameters from /usr/local/lib/python3.6/dist-packages/mindsdb_storage/1_0_9/home_rentals_ludwig_data/model_weights\n"
          ],
          "name": "stderr"
        },
        {
          "output_type": "stream",
          "text": [
            "Can't disable output on Jupyter notebook\n",
            "Can't disable output on Jupyter notebook\n",
            "Can't disable output on Jupyter notebook\n",
            "INFO:tensorflow:Restoring parameters from /usr/local/lib/python3.6/dist-packages/mindsdb_storage/1_0_9/home_rentals_ludwig_data/model_weights\n"
          ],
          "name": "stdout"
        },
        {
          "output_type": "stream",
          "text": [
            "INFO:tensorflow:Restoring parameters from /usr/local/lib/python3.6/dist-packages/mindsdb_storage/1_0_9/home_rentals_ludwig_data/model_weights\n"
          ],
          "name": "stderr"
        },
        {
          "output_type": "stream",
          "text": [
            "Can't disable output on Jupyter notebook\n",
            "Can't disable output on Jupyter notebook\n",
            "Can't disable output on Jupyter notebook\n",
            "INFO:tensorflow:Restoring parameters from /usr/local/lib/python3.6/dist-packages/mindsdb_storage/1_0_9/home_rentals_ludwig_data/model_weights\n"
          ],
          "name": "stdout"
        },
        {
          "output_type": "stream",
          "text": [
            "INFO:tensorflow:Restoring parameters from /usr/local/lib/python3.6/dist-packages/mindsdb_storage/1_0_9/home_rentals_ludwig_data/model_weights\n"
          ],
          "name": "stderr"
        },
        {
          "output_type": "stream",
          "text": [
            "Can't disable output on Jupyter notebook\n",
            "Can't disable output on Jupyter notebook\n",
            "Can't disable output on Jupyter notebook\n",
            "INFO:tensorflow:Restoring parameters from /usr/local/lib/python3.6/dist-packages/mindsdb_storage/1_0_9/home_rentals_ludwig_data/model_weights\n"
          ],
          "name": "stdout"
        },
        {
          "output_type": "stream",
          "text": [
            "INFO:tensorflow:Restoring parameters from /usr/local/lib/python3.6/dist-packages/mindsdb_storage/1_0_9/home_rentals_ludwig_data/model_weights\n"
          ],
          "name": "stderr"
        },
        {
          "output_type": "stream",
          "text": [
            "Can't disable output on Jupyter notebook\n",
            "Can't disable output on Jupyter notebook\n",
            "Can't disable output on Jupyter notebook\n",
            "INFO:tensorflow:Restoring parameters from /usr/local/lib/python3.6/dist-packages/mindsdb_storage/1_0_9/home_rentals_ludwig_data/model_weights\n"
          ],
          "name": "stdout"
        },
        {
          "output_type": "stream",
          "text": [
            "INFO:tensorflow:Restoring parameters from /usr/local/lib/python3.6/dist-packages/mindsdb_storage/1_0_9/home_rentals_ludwig_data/model_weights\n"
          ],
          "name": "stderr"
        },
        {
          "output_type": "stream",
          "text": [
            "Can't disable output on Jupyter notebook\n",
            "Can't disable output on Jupyter notebook\n",
            "Can't disable output on Jupyter notebook\n",
            "INFO:tensorflow:Restoring parameters from /usr/local/lib/python3.6/dist-packages/mindsdb_storage/1_0_9/home_rentals_ludwig_data/model_weights\n"
          ],
          "name": "stdout"
        },
        {
          "output_type": "stream",
          "text": [
            "INFO:tensorflow:Restoring parameters from /usr/local/lib/python3.6/dist-packages/mindsdb_storage/1_0_9/home_rentals_ludwig_data/model_weights\n"
          ],
          "name": "stderr"
        },
        {
          "output_type": "stream",
          "text": [
            "Can't disable output on Jupyter notebook\n"
          ],
          "name": "stdout"
        },
        {
          "output_type": "stream",
          "text": [
            "\u001b[32mINFO:mindsdb-logger-399e6c30-74d6-11e9-9e47-0242ac1c0002:libs/phases/base_module.py:76 - '[END] ModelAnalyzer, execution time: 44.837 seconds'\u001b[0m\n"
          ],
          "name": "stderr"
        }
      ]
    },
    {
      "cell_type": "code",
      "metadata": {
        "id": "31OzKoauQnZf",
        "colab_type": "code",
        "outputId": "a5a33025-19bb-46cb-f63a-e92d8dd07fb9",
        "colab": {
          "base_uri": "https://localhost:8080/",
          "height": 225
        }
      },
      "source": [
        "# use the model to make predictions\n",
        "mdb_predict = mindsdb.Predictor(name='home_rentals')\n",
        "result = mdb_predict.predict(when={'number_of_rooms': 2,'number_of_bathrooms':1, 'sqft': 1190})\n",
        "\n",
        "# you can now print the results\n",
        "print('The predicted price is ${price} with {conf} confidence'.format(price=result[0]['rental_price'], conf=result[0]['rental_price_confidence']))"
      ],
      "execution_count": 0,
      "outputs": [
        {
          "output_type": "stream",
          "text": [
            "\u001b[33mWARNING:mindsdb-logger-core-logger:libs/phases/base_module.py:57 - 'Target phase is different than PHASE_END, Only change this for debug purposes'\u001b[0m\n",
            "\u001b[32mINFO:mindsdb-logger-core-logger:libs/phases/base_module.py:63 - '[START] DataExtractor'\u001b[0m\n",
            "\u001b[32mINFO:mindsdb-logger-core-logger:libs/phases/base_module.py:76 - '[END] DataExtractor, execution time: 0.072 seconds'\u001b[0m\n",
            "\u001b[33mWARNING:mindsdb-logger-core-logger:libs/helpers/general_helpers.py:134 - 'could not check for MindsDB updates'\u001b[0m\n"
          ],
          "name": "stderr"
        },
        {
          "output_type": "stream",
          "text": [
            "Can't disable output on Jupyter notebook\n",
            "Can't disable output on Jupyter notebook\n",
            "INFO:tensorflow:Restoring parameters from /usr/local/lib/python3.6/dist-packages/mindsdb_storage/1_0_9/home_rentals_ludwig_data/model_weights\n"
          ],
          "name": "stdout"
        },
        {
          "output_type": "stream",
          "text": [
            "/usr/local/lib/python3.6/dist-packages/ludwig/features/numerical_feature.py:63: FutureWarning: Method .as_matrix will be removed in a future version. Use .values instead.\n",
            "  np.float32).as_matrix()\n",
            "INFO:tensorflow:Restoring parameters from /usr/local/lib/python3.6/dist-packages/mindsdb_storage/1_0_9/home_rentals_ludwig_data/model_weights\n"
          ],
          "name": "stderr"
        },
        {
          "output_type": "stream",
          "text": [
            "Can't disable output on Jupyter notebook\n",
            "The predicted price is $1161.1368408203125 with 0.02491046864422204 confidence\n"
          ],
          "name": "stdout"
        }
      ]
    }
  ]
}